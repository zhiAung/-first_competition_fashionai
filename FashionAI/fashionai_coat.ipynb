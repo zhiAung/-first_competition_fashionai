{
 "cells": [
  {
   "cell_type": "code",
   "execution_count": 1,
   "metadata": {},
   "outputs": [
    {
     "name": "stdout",
     "output_type": "stream",
     "text": [
      "process end\n"
     ]
    }
   ],
   "source": [
    "import torch\n",
    "import torchvision\n",
    "from torchvision import transforms,utils\n",
    "train_dataset=torchvision.datasets.ImageFolder(\"/home/user01/envoriments/data/train/coat_length_labels/\",\n",
    "                                         transform=transforms.Compose([\n",
    "                                            transforms.Scale(224),\n",
    "                                            transforms.CenterCrop(224),\n",
    "                                            transforms.ToTensor()\n",
    "                                         ]))\n",
    "train_dataloader=torch.utils.data.DataLoader(train_dataset,batch_size=16,shuffle=True,num_workers=6)\n",
    "\n",
    "validate_dataset=torchvision.datasets.ImageFolder(\"/home/user01/envoriments/data/validate/coat_length_labels/\",\n",
    "                                         transform=transforms.Compose([\n",
    "                                            transforms.Scale(224),\n",
    "                                            transforms.CenterCrop(224),\n",
    "                                            transforms.ToTensor()\n",
    "                                         ]))\n",
    "validate_dataloader=torch.utils.data.DataLoader(validate_dataset,batch_size=10,shuffle=True,num_workers=6)\n",
    "\n",
    "dset_loaders={'train':train_dataloader,'validate':validate_dataloader}\n",
    "dset_sizes={'train':len(train_dataset),'validate':len(validate_dataset)}\n",
    "use_gpu=torch.cuda.is_available()\n",
    "print(\"process end\")"
   ]
  },
  {
   "cell_type": "code",
   "execution_count": 2,
   "metadata": {},
   "outputs": [
    {
     "name": "stdout",
     "output_type": "stream",
     "text": [
      "process end\n"
     ]
    }
   ],
   "source": [
    "from torch.autograd import Variable\n",
    "import time\n",
    "def train_model(model,criterion,optimizer,lr_scheduler,num_epochs=30):\n",
    "    since=time.time()\n",
    "    best_model=model\n",
    "    best_acc=0.0\n",
    "    for epoch in range(num_epochs):\n",
    "        print('epoch:{}/{}'.format(epoch,num_epochs-1))\n",
    "        print('_'*10)\n",
    "        for phase in ['train','validate']:\n",
    "            if phase=='train':\n",
    "                optimizer=lr_scheduler(optimizer,epoch)\n",
    "                model.train(True)\n",
    "            else:\n",
    "                model.train(False)\n",
    "            running_loss=0.0\n",
    "            running_corrects=0\n",
    "            for data in dset_loaders[phase]:\n",
    "                inputs,labels=data\n",
    "                if use_gpu:\n",
    "                    inputs,labels=Variable(inputs.cuda()),Variable(labels.cuda())\n",
    "                else:\n",
    "                    inputs,labels=Variable(inputs),Variable(labels)\n",
    "                optimizer.zero_grad()\n",
    "                outputs=model(inputs)\n",
    "                _,preds=torch.max(outputs.data,1)#返回第一维的值和索引\n",
    "                loss=criterion(outputs,labels)\n",
    "                if phase=='train':\n",
    "                    loss.backward()\n",
    "                    optimizer.step()\n",
    "                running_loss+=loss.data[0]#?\n",
    "                running_corrects+=torch.sum(preds==labels.data)\n",
    "            epoch_loss=running_loss/dset_sizes[phase]\n",
    "            epoch_acc=running_corrects/dset_sizes[phase]\n",
    "            \n",
    "            print('{} loss:{:.4f} acc:{:.4f}'.format(phase,epoch_loss,epoch_acc))\n",
    "            if phase ==\"validate\"and epoch_acc>best_acc:\n",
    "                best_acc=epoch_acc\n",
    "                best_model=copy.deepcopy(model)#?\n",
    "    time_elapsed=time.time()-since\n",
    "    print('花费时间为{:.0f}分：{:.0f}秒'.format(time_elapsed//60,time_elapsed%60))\n",
    "    print(\"最好的准确率为：{:.4f}\".format(best_acc))\n",
    "    return best_model\n",
    "        \n",
    "print(\"process end\")"
   ]
  },
  {
   "cell_type": "code",
   "execution_count": 3,
   "metadata": {},
   "outputs": [
    {
     "name": "stdout",
     "output_type": "stream",
     "text": [
      "process end\n"
     ]
    }
   ],
   "source": [
    "def exp_lr_scheduler(optimizer,epoch,init_lr=0.001,lr_decay_epoch=5):\n",
    "    lr=init_lr*(0.1**(epoch//lr_decay_epoch))\n",
    "    if epoch%lr_decay_epoch==0:\n",
    "        print(\"此时学习率为{}\".format(lr))\n",
    "    for param_group in optimizer.param_groups:\n",
    "        param_group['lr']=lr\n",
    "    return optimizer \n",
    "print(\"process end\")"
   ]
  },
  {
   "cell_type": "code",
   "execution_count": null,
   "metadata": {},
   "outputs": [],
   "source": [
    "from torchvision import models\n",
    "import torch.nn as nn\n",
    "import torch.optim as optim\n",
    "\n",
    "\n",
    "\n",
    "import matplotlib.pyplot as plt\n",
    "import numpy as np\n",
    "import os\n",
    "import sys\n",
    "import tarfile\n",
    "from IPython.display import display, Image\n",
    "from PIL import Image, ImageFilter\n",
    "import torch\n",
    "\n",
    "from torch.autograd import Variable\n",
    "\n",
    "import torchvision\n",
    "from torchvision import datasets,transforms\n",
    "import time\n",
    "import copy\n",
    "#model_dense=models.inception_v3(pretrained=True)\n",
    "model_dense=models.densenet169(pretrained=True)\n",
    "model_dense.classifier=torch.nn.Linear(1664,8)\n",
    "\n",
    "if use_gpu:\n",
    "    model_dense=model_dense.cuda()\n",
    "criterion=torch.nn.CrossEntropyLoss()\n",
    "optimizer=optim.SGD(model_dense.parameters(),lr=0.001,momentum=0.9)\n",
    "\n",
    "model=train_model(model_dense,criterion,optimizer,exp_lr_scheduler,num_epochs=22)\n",
    "torch.save(model.state_dict(),'densenet_fashionai_coat_en.pkl')\n",
    "print(\"process end\")"
   ]
  },
  {
   "cell_type": "code",
   "execution_count": null,
   "metadata": {
    "collapsed": true
   },
   "outputs": [],
   "source": []
  }
 ],
 "metadata": {
  "kernelspec": {
   "display_name": "Python 3",
   "language": "python",
   "name": "python3"
  },
  "language_info": {
   "codemirror_mode": {
    "name": "ipython",
    "version": 3
   },
   "file_extension": ".py",
   "mimetype": "text/x-python",
   "name": "python",
   "nbconvert_exporter": "python",
   "pygments_lexer": "ipython3",
   "version": "3.6.2"
  }
 },
 "nbformat": 4,
 "nbformat_minor": 2
}
