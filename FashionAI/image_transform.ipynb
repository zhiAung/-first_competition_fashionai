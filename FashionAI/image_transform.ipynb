{
 "cells": [
  {
   "cell_type": "code",
   "execution_count": 1,
   "metadata": {
    "collapsed": true
   },
   "outputs": [],
   "source": [
    "\n",
    "import matplotlib.pyplot as plt\n",
    "import numpy as np\n",
    "import os\n",
    "import sys\n",
    "import tarfile\n",
    "from IPython.display import display, Image\n",
    "from PIL import Image, ImageFilter\n"
   ]
  },
  {
   "cell_type": "markdown",
   "metadata": {},
   "source": [
    "# collar"
   ]
  },
  {
   "cell_type": "code",
   "execution_count": 2,
   "metadata": {},
   "outputs": [
    {
     "name": "stdout",
     "output_type": "stream",
     "text": [
      "end\n"
     ]
    }
   ],
   "source": [
    "#collar\n",
    "infile=\"/home/user01/envoriments/data/validate_error/collar_design_labels/\"\n",
    "#outfile=\"/home/user01/envoriments/data/test/collar_design_labels/\"\n",
    "small_classes=os.listdir(infile)\n",
    "for small_class in small_classes:\n",
    "    images=os.listdir(infile+small_class)\n",
    "    for image in images:\n",
    "        img=Image.open(infile+small_class+'/'+image)\n",
    "        out = img.resize((250,250),Image.ANTIALIAS)\n",
    "        box1 = (80, 10, 170, 140)\n",
    "        crop1 = out.crop(box1)\n",
    "        out1 = crop1.resize((224,224),Image.ANTIALIAS)\n",
    "        \n",
    "        box2 = (40, 5, 210, 195)\n",
    "        crop2 = out.crop(box2)\n",
    "        j=np.random.randint(0, 2)\n",
    "        if j==0:\n",
    "            k=-20\n",
    "        else:\n",
    "            k=20\n",
    "        rotate = crop2.rotate(k)\n",
    "        out2 = rotate.resize((224,224),Image.ANTIALIAS)\n",
    "        \n",
    "        image_rename1=\"cr\"+image\n",
    "        image_rename2=\"ro\"+image\n",
    "        out1.save(infile+small_class+'/'+image_rename1)\n",
    "        out2.save(infile+small_class+'/'+image_rename2)\n",
    "        '''print(image)\n",
    "        plt.imshow(out1)\n",
    "        plt.show()\n",
    "        plt.imshow(out2)\n",
    "        \n",
    "        plt.show()'''\n",
    "    \n",
    "print('end')    "
   ]
  },
  {
   "cell_type": "markdown",
   "metadata": {},
   "source": [
    "# pant"
   ]
  },
  {
   "cell_type": "code",
   "execution_count": 3,
   "metadata": {},
   "outputs": [
    {
     "name": "stdout",
     "output_type": "stream",
     "text": [
      "end\n"
     ]
    }
   ],
   "source": [
    "#pant\n",
    "infile=\"/home/user01/envoriments/data/validate_error/pant_length_labels/\"\n",
    "#outfile=\"/home/user01/envoriments/data/test/collar_design_labels/\"\n",
    "small_classes=os.listdir(infile)\n",
    "for small_class in small_classes:\n",
    "    images=os.listdir(infile+small_class)\n",
    "    for image in images:\n",
    "        img=Image.open(infile+small_class+'/'+image)\n",
    "        out = img.resize((250,250),Image.ANTIALIAS)\n",
    "        box1 = (80, 20, 170, 240)\n",
    "        crop1 = out.crop(box1)\n",
    "        out1 = crop1.resize((224,224),Image.ANTIALIAS)\n",
    "        \n",
    "        box2 = (40, 10, 210, 245)\n",
    "        crop2 = out.crop(box2)\n",
    "        j=np.random.randint(0, 2)\n",
    "        if j==0:\n",
    "            k=-20\n",
    "        else:\n",
    "            k=20\n",
    "        rotate = crop2.rotate(k)\n",
    "        out2 = rotate.resize((224,224),Image.ANTIALIAS)\n",
    "        \n",
    "        image_rename1=\"cr\"+image\n",
    "        image_rename2=\"ro\"+image\n",
    "        out1.save(infile+small_class+'/'+image_rename1)\n",
    "        out2.save(infile+small_class+'/'+image_rename2)\n",
    "        '''plt.imshow(out1)\n",
    "        plt.show()\n",
    "        plt.imshow(out2)\n",
    "        \n",
    "        plt.show()'''\n",
    "    \n",
    "print('end')    "
   ]
  },
  {
   "cell_type": "markdown",
   "metadata": {},
   "source": [
    "# coat"
   ]
  },
  {
   "cell_type": "code",
   "execution_count": 4,
   "metadata": {},
   "outputs": [
    {
     "name": "stdout",
     "output_type": "stream",
     "text": [
      "end\n"
     ]
    }
   ],
   "source": [
    "\n",
    "infile=\"/home/user01/envoriments/data/validate_error/coat_length_labels/\"\n",
    "\n",
    "small_classes=os.listdir(infile)\n",
    "for small_class in small_classes:\n",
    "    images=os.listdir(infile+small_class)\n",
    "    for image in images:\n",
    "        img=Image.open(infile+small_class+'/'+image)\n",
    "        out = img.resize((250,250),Image.ANTIALIAS)\n",
    "        \n",
    "        box1 = (70, 20, 180, 240)\n",
    "        crop1 = out.crop(box1)\n",
    "        out1 = crop1.resize((224,224),Image.ANTIALIAS)\n",
    "        \n",
    "        box2 = (35, 10, 215, 245)\n",
    "        crop2 = out.crop(box2)\n",
    "        j=np.random.randint(0, 2)\n",
    "        if j==0:\n",
    "            k=-20\n",
    "        else:\n",
    "            k=20\n",
    "        rotate = crop2.rotate(k)\n",
    "        out2 = rotate.resize((224,224),Image.ANTIALIAS)\n",
    "        \n",
    "        image_rename1=\"cr\"+image\n",
    "        image_rename2=\"ro\"+image\n",
    "        out1.save(infile+small_class+'/'+image_rename1)\n",
    "        out2.save(infile+small_class+'/'+image_rename2)\n",
    "        '''plt.imshow(out1)\n",
    "        plt.show()'''\n",
    "       \n",
    "print('end')    "
   ]
  },
  {
   "cell_type": "code",
   "execution_count": null,
   "metadata": {
    "collapsed": true
   },
   "outputs": [],
   "source": []
  },
  {
   "cell_type": "markdown",
   "metadata": {
    "collapsed": true
   },
   "source": [
    "# lapel"
   ]
  },
  {
   "cell_type": "code",
   "execution_count": 5,
   "metadata": {},
   "outputs": [
    {
     "name": "stdout",
     "output_type": "stream",
     "text": [
      "end\n"
     ]
    }
   ],
   "source": [
    "infile=\"/home/user01/envoriments/data/validate_error/lapel_design_labels/\"\n",
    "small_classes=os.listdir(infile)\n",
    "for small_class in small_classes:\n",
    "    images=os.listdir(infile+small_class)\n",
    "    for image in images:\n",
    "        img=Image.open(infile+small_class+'/'+image)\n",
    "        out = img.resize((250,250),Image.ANTIALIAS)\n",
    "        \n",
    "        box1 = (80, 20, 170, 180)\n",
    "        crop1 = out.crop(box1)\n",
    "        out1 = crop1.resize((224,224),Image.ANTIALIAS)\n",
    "        \n",
    "        box2 = (40, 10, 210, 215)\n",
    "        crop2 = out.crop(box2)\n",
    "        j=np.random.randint(0, 2)\n",
    "        if j==0:\n",
    "            k=-20\n",
    "        else:\n",
    "            k=20\n",
    "        rotate = crop2.rotate(k)\n",
    "        out2 = rotate.resize((224,224),Image.ANTIALIAS)\n",
    "        \n",
    "        image_rename1=\"cr\"+image\n",
    "        image_rename2=\"ro\"+image\n",
    "        out1.save(infile+small_class+'/'+image_rename1)\n",
    "        out2.save(infile+small_class+'/'+image_rename2)\n",
    "        '''plt.imshow(out1)\n",
    "        plt.show()'''\n",
    "       \n",
    "print('end')    "
   ]
  },
  {
   "cell_type": "markdown",
   "metadata": {},
   "source": [
    "# neck"
   ]
  },
  {
   "cell_type": "code",
   "execution_count": 6,
   "metadata": {},
   "outputs": [
    {
     "name": "stdout",
     "output_type": "stream",
     "text": [
      "end\n"
     ]
    }
   ],
   "source": [
    "infile=\"/home/user01/envoriments/data/validate_error/neck_design_labels/\"\n",
    "small_classes=os.listdir(infile)\n",
    "for small_class in small_classes:\n",
    "    images=os.listdir(infile+small_class)\n",
    "    for image in images:\n",
    "        img=Image.open(infile+small_class+'/'+image)\n",
    "        out = img.resize((250,250),Image.ANTIALIAS)\n",
    "       \n",
    "        box1 = (80, 20, 170, 130)\n",
    "        crop1 = out.crop(box1)\n",
    "        out1 = crop1.resize((224,224),Image.ANTIALIAS)\n",
    "        \n",
    "        box2 = (40, 10, 210, 190)\n",
    "        crop2 = out.crop(box2)\n",
    "        j=np.random.randint(0, 2)\n",
    "        if j==0:\n",
    "            k=-20\n",
    "        else:\n",
    "            k=20\n",
    "        rotate = crop2.rotate(k)\n",
    "        out2 = rotate.resize((224,224),Image.ANTIALIAS)\n",
    "        \n",
    "        image_rename1=\"cr\"+image\n",
    "        image_rename2=\"ro\"+image\n",
    "        out1.save(infile+small_class+'/'+image_rename1)\n",
    "        out2.save(infile+small_class+'/'+image_rename2)\n",
    "       \n",
    "       \n",
    "print('end')    "
   ]
  },
  {
   "cell_type": "markdown",
   "metadata": {},
   "source": [
    "# neckline"
   ]
  },
  {
   "cell_type": "code",
   "execution_count": 7,
   "metadata": {},
   "outputs": [
    {
     "name": "stdout",
     "output_type": "stream",
     "text": [
      "end\n"
     ]
    }
   ],
   "source": [
    "infile=\"/home/user01/envoriments/data/validate_error/neckline_design_labels/\"\n",
    "small_classes=os.listdir(infile)\n",
    "for small_class in small_classes:\n",
    "    images=os.listdir(infile+small_class)\n",
    "    for image in images:\n",
    "        img=Image.open(infile+small_class+'/'+image)\n",
    "        out = img.resize((250,250),Image.ANTIALIAS)\n",
    "        box1 = (60, 20, 190, 130)\n",
    "        crop1 = out.crop(box1)\n",
    "        out1 = crop1.resize((224,224),Image.ANTIALIAS)\n",
    "        \n",
    "        box2 = (30, 10, 220, 190)\n",
    "        crop2 = out.crop(box2)\n",
    "        j=np.random.randint(0, 2)\n",
    "        if j==0:\n",
    "            k=-20\n",
    "        else:\n",
    "            k=20\n",
    "        rotate = crop2.rotate(k)\n",
    "        out2 = rotate.resize((224,224),Image.ANTIALIAS)\n",
    "    \n",
    "        image_rename1=\"cr\"+image\n",
    "        image_rename2=\"ro\"+image\n",
    "        out1.save(infile+small_class+'/'+image_rename1)\n",
    "        out2.save(infile+small_class+'/'+image_rename2)\n",
    "       \n",
    "print('end')    "
   ]
  },
  {
   "cell_type": "markdown",
   "metadata": {},
   "source": [
    "# skirt"
   ]
  },
  {
   "cell_type": "code",
   "execution_count": 8,
   "metadata": {},
   "outputs": [
    {
     "name": "stdout",
     "output_type": "stream",
     "text": [
      "end\n"
     ]
    }
   ],
   "source": [
    "infile=\"/home/user01/envoriments/data/validate_error/skirt_length_labels/\"\n",
    "small_classes=os.listdir(infile)\n",
    "for small_class in small_classes:\n",
    "    images=os.listdir(infile+small_class)\n",
    "    for image in images:\n",
    "        img=Image.open(infile+small_class+'/'+image)\n",
    "        out = img.resize((250,250),Image.ANTIALIAS)\n",
    "       \n",
    "        box1 = (70, 80, 180, 245)\n",
    "        crop1 = out.crop(box1)\n",
    "        out1 = crop1.resize((224,224),Image.ANTIALIAS)\n",
    "        \n",
    "        box2 = (35, 40, 215, 248)\n",
    "        crop2 = out.crop(box2)\n",
    "        j=np.random.randint(0, 2)\n",
    "        if j==0:\n",
    "            k=-20\n",
    "        else:\n",
    "            k=20\n",
    "        rotate = crop2.rotate(k)\n",
    "        out2 = rotate.resize((224,224),Image.ANTIALIAS)\n",
    "        \n",
    "        image_rename1=\"cr\"+image\n",
    "        image_rename2=\"ro\"+image\n",
    "        out1.save(infile+small_class+'/'+image_rename1)\n",
    "        out2.save(infile+small_class+'/'+image_rename2)\n",
    "       \n",
    "print('end')   "
   ]
  },
  {
   "cell_type": "markdown",
   "metadata": {},
   "source": [
    "# sleeve"
   ]
  },
  {
   "cell_type": "code",
   "execution_count": 9,
   "metadata": {},
   "outputs": [
    {
     "name": "stdout",
     "output_type": "stream",
     "text": [
      "end\n"
     ]
    }
   ],
   "source": [
    "infile=\"/home/user01/envoriments/data/validate_error/sleeve_length_labels/\"\n",
    "small_classes=os.listdir(infile)\n",
    "for small_class in small_classes:\n",
    "    images=os.listdir(infile+small_class)\n",
    "    for image in images:\n",
    "        img=Image.open(infile+small_class+'/'+image)\n",
    "        out = img.resize((250,250),Image.ANTIALIAS)\n",
    "       \n",
    "        box1 = (20, 40, 130, 245)\n",
    "        crop1 = out.crop(box1)\n",
    "        out1 = crop1.resize((224,224),Image.ANTIALIAS)\n",
    "        \n",
    "        box2 = (120, 20,230, 248)\n",
    "        crop2 = out.crop(box2)\n",
    "        j=np.random.randint(0, 2)\n",
    "        if j==0:\n",
    "            k=-10\n",
    "        else:\n",
    "            k=10\n",
    "        rotate = crop2.rotate(k)\n",
    "        out2 = rotate.resize((224,224),Image.ANTIALIAS)\n",
    "        image_rename1=\"cr\"+image\n",
    "        image_rename2=\"ro\"+image\n",
    "        out1.save(infile+small_class+'/'+image_rename1)\n",
    "        out2.save(infile+small_class+'/'+image_rename2)\n",
    "       \n",
    "print('end')    "
   ]
  },
  {
   "cell_type": "code",
   "execution_count": null,
   "metadata": {
    "collapsed": true
   },
   "outputs": [],
   "source": []
  }
 ],
 "metadata": {
  "kernelspec": {
   "display_name": "Python 3",
   "language": "python",
   "name": "python3"
  },
  "language_info": {
   "codemirror_mode": {
    "name": "ipython",
    "version": 3
   },
   "file_extension": ".py",
   "mimetype": "text/x-python",
   "name": "python",
   "nbconvert_exporter": "python",
   "pygments_lexer": "ipython3",
   "version": "3.6.2"
  }
 },
 "nbformat": 4,
 "nbformat_minor": 2
}
